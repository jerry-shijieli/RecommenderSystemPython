{
 "cells": [
  {
   "cell_type": "code",
   "execution_count": 7,
   "metadata": {
    "collapsed": true
   },
   "outputs": [],
   "source": [
    "import pandas as pd\n",
    "import numpy as np"
   ]
  },
  {
   "cell_type": "code",
   "execution_count": 8,
   "metadata": {
    "collapsed": true
   },
   "outputs": [],
   "source": [
    "filepath = open(\"ratings_Amazon_Instant_Video.csv\", 'r')"
   ]
  },
  {
   "cell_type": "code",
   "execution_count": 9,
   "metadata": {
    "collapsed": false
   },
   "outputs": [
    {
     "data": {
      "text/html": [
       "<div>\n",
       "<table border=\"1\" class=\"dataframe\">\n",
       "  <thead>\n",
       "    <tr style=\"text-align: right;\">\n",
       "      <th></th>\n",
       "      <th>0</th>\n",
       "      <th>1</th>\n",
       "      <th>2</th>\n",
       "      <th>3</th>\n",
       "    </tr>\n",
       "  </thead>\n",
       "  <tbody>\n",
       "    <tr>\n",
       "      <th>0</th>\n",
       "      <td>A1EE2E3N7PW666</td>\n",
       "      <td>B000GFDAUG</td>\n",
       "      <td>5.0</td>\n",
       "      <td>1202256000</td>\n",
       "    </tr>\n",
       "    <tr>\n",
       "      <th>1</th>\n",
       "      <td>AGZ8SM1BGK3CK</td>\n",
       "      <td>B000GFDAUG</td>\n",
       "      <td>5.0</td>\n",
       "      <td>1198195200</td>\n",
       "    </tr>\n",
       "    <tr>\n",
       "      <th>2</th>\n",
       "      <td>A2VHZ21245KBT7</td>\n",
       "      <td>B000GIOPK2</td>\n",
       "      <td>4.0</td>\n",
       "      <td>1215388800</td>\n",
       "    </tr>\n",
       "    <tr>\n",
       "      <th>3</th>\n",
       "      <td>ACX8YW2D5EGP6</td>\n",
       "      <td>B000GIOPK2</td>\n",
       "      <td>4.0</td>\n",
       "      <td>1185840000</td>\n",
       "    </tr>\n",
       "    <tr>\n",
       "      <th>4</th>\n",
       "      <td>A9RNMO9MUSMTJ</td>\n",
       "      <td>B000GIOPK2</td>\n",
       "      <td>2.0</td>\n",
       "      <td>1281052800</td>\n",
       "    </tr>\n",
       "  </tbody>\n",
       "</table>\n",
       "</div>"
      ],
      "text/plain": [
       "                0           1    2           3\n",
       "0  A1EE2E3N7PW666  B000GFDAUG  5.0  1202256000\n",
       "1   AGZ8SM1BGK3CK  B000GFDAUG  5.0  1198195200\n",
       "2  A2VHZ21245KBT7  B000GIOPK2  4.0  1215388800\n",
       "3   ACX8YW2D5EGP6  B000GIOPK2  4.0  1185840000\n",
       "4   A9RNMO9MUSMTJ  B000GIOPK2  2.0  1281052800"
      ]
     },
     "execution_count": 9,
     "metadata": {},
     "output_type": "execute_result"
    }
   ],
   "source": [
    "ratings = pd.read_csv(filepath, header=None)\n",
    "ratings.head()"
   ]
  },
  {
   "cell_type": "code",
   "execution_count": 10,
   "metadata": {
    "collapsed": true
   },
   "outputs": [],
   "source": [
    "savefile = 'ratings_x.csv'\n",
    "ratings.columns = ['userId', 'itemId', 'rating', 'timestamp']\n",
    "ratings.to_csv(savefile, index=False)"
   ]
  },
  {
   "cell_type": "code",
   "execution_count": null,
   "metadata": {
    "collapsed": true
   },
   "outputs": [],
   "source": []
  }
 ],
 "metadata": {
  "kernelspec": {
   "display_name": "Python 2",
   "language": "python",
   "name": "python2"
  },
  "language_info": {
   "codemirror_mode": {
    "name": "ipython",
    "version": 2
   },
   "file_extension": ".py",
   "mimetype": "text/x-python",
   "name": "python",
   "nbconvert_exporter": "python",
   "pygments_lexer": "ipython2",
   "version": "2.7.12"
  }
 },
 "nbformat": 4,
 "nbformat_minor": 0
}
